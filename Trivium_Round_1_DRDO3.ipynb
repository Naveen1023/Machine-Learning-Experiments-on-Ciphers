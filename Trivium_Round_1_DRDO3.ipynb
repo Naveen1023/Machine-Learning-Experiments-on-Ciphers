{
  "nbformat": 4,
  "nbformat_minor": 0,
  "metadata": {
    "colab": {
      "name": "Trivium_Round-1_DRDO3.ipynb",
      "provenance": [],
      "collapsed_sections": [],
      "include_colab_link": true
    },
    "kernelspec": {
      "name": "python3",
      "display_name": "Python 3"
    },
    "accelerator": "GPU"
  },
  "cells": [
    {
      "cell_type": "markdown",
      "metadata": {
        "id": "view-in-github",
        "colab_type": "text"
      },
      "source": [
        "<a href=\"https://colab.research.google.com/github/Naveen1023/Machine-Learning-Experiments-on-Ciphers/blob/main/Trivium_Round_1_DRDO3.ipynb\" target=\"_parent\"><img src=\"https://colab.research.google.com/assets/colab-badge.svg\" alt=\"Open In Colab\"/></a>"
      ]
    },
    {
      "metadata": {
        "id": "EW7H2ClZviLN"
      },
      "cell_type": "code",
      "source": [
        "import numpy as np\n",
        "\n",
        "import tensorflow as tf"
      ],
      "execution_count": null,
      "outputs": []
    },
    {
      "metadata": {
        "id": "PWzT0AglwRxw"
      },
      "cell_type": "code",
      "source": [
        "bits = []\n"
      ],
      "execution_count": null,
      "outputs": []
    },
    {
      "metadata": {
        "id": "5ft9ujSpvzOz"
      },
      "cell_type": "code",
      "source": [
        "from collections import deque\n",
        "from itertools import repeat\n",
        "from sys import version_info\n",
        "\n",
        "\n",
        "class Trivium:\n",
        "    \n",
        "    def __init__(self, key, iv):\n",
        "        \"\"\"in the beginning we need to transform the key as well as the IV.\n",
        "        Afterwards we initialize the state.\"\"\"\n",
        "        self.state = None\n",
        "        self.counter = 0\n",
        "        self.key = key  # self._setLength(key)\n",
        "        self.iv = iv  # self._setLength(iv)\n",
        "\n",
        "        # Initialize state\n",
        "        # len 100\n",
        "        init_list = list(map(int, list(self.key)))\n",
        "        init_list += list(repeat(0, 20))\n",
        "        # len 84\n",
        "        init_list += list(map(int, list(self.iv)))\n",
        "        init_list += list(repeat(0, 4))\n",
        "        # len 111\n",
        "        init_list += list(repeat(0, 108))\n",
        "        init_list += list([1, 1, 1])\n",
        "        self.state = deque(init_list)\n",
        "\n",
        "        # Do 4 full cycles, drop output\n",
        "        for i in range(1):\n",
        "            self._gen_keystream()\n",
        "\n",
        "    def encrypt(self, message):\n",
        "        \"\"\"To be implemented\"\"\"\n",
        "        pass\n",
        "\n",
        "    def decrypt(self, cipher):\n",
        "        \"\"\"To be implemented\"\"\"\n",
        "        pass\n",
        "\n",
        "    def keystream(self):\n",
        "        \"\"\"output keystream\n",
        "        only use this when you know what you are doing!!\"\"\"\n",
        "        while self.counter < 2**64:\n",
        "            self.counter += 1\n",
        "            yield self._gen_keystream()\n",
        "\n",
        "    def _setLength(self, input_data):\n",
        "        \"\"\"we cut off after 80 bits, alternatively we pad these with zeros.\"\"\"\n",
        "        input_data = \"{0:080b}\".format(input_data)\n",
        "        if len(input_data) > 80:\n",
        "            input_data = input_data[:(len(input_data)-81):-1]\n",
        "        else:\n",
        "            input_data = input_data[::-1]\n",
        "        return input_data\n",
        "\n",
        "    def _gen_keystream(self):\n",
        "        \"\"\"this method generates triviums keystream\"\"\"\n",
        "\n",
        "        a_1 = self.state[90] & self.state[91]\n",
        "        a_2 = self.state[181] & self.state[182]\n",
        "        a_3 = self.state[292] & self.state[293]\n",
        "\n",
        "        t_1 = self.state[65] ^ self.state[92]\n",
        "        t_2 = self.state[168] ^ self.state[183]\n",
        "        t_3 = self.state[249] ^ self.state[294]\n",
        "\n",
        "        out = t_1 ^ t_2 ^ t_3\n",
        "\n",
        "        s_1 = a_1 ^ self.state[177] ^ t_1\n",
        "        s_2 = a_2 ^ self.state[270] ^ t_2\n",
        "        s_3 = a_3 ^ self.state[68] ^ t_3\n",
        "\n",
        "        self.state.rotate(1)\n",
        "\n",
        "        self.state[0] = s_3\n",
        "        self.state[100] = s_1\n",
        "        self.state[184] = s_2\n",
        "\n",
        "        return out\n",
        "\n",
        "\n",
        "def main():\n",
        "    keystream = []\n",
        "    KEY = hex_to_bits(\"0B62B5085BAE0154A7FA\")[::-1]\n",
        "    IV = hex_to_bits(\"288FF65DC42B92F960C7\")[::-1]\n",
        "    trivium = Trivium(KEY, IV)\n",
        "\n",
        "    # Check python version\n",
        "    if version_info[0] == 2:\n",
        "        next_key_bit = trivium.keystream().next\n",
        "    elif version_info[0] == 3:\n",
        "        next_key_bit = trivium.keystream().__next__\n",
        "    else:\n",
        "        print(\"invalid python version\")\n",
        "        return\n",
        "\n",
        "    for i in range(1):\n",
        "        \n",
        "        for j in range(25700000):\n",
        "            keystream.append(next_key_bit())\n",
        "            bits.append(next_key_bit())\n",
        "            \n",
        "#         print(keystream)\n",
        "    \n",
        "\n",
        "# Convert strings of hex to strings of bytes and back, little-endian style\n",
        "_allbytes = dict([(\"%02X\" % i, i) for i in range(256)])\n",
        "\n",
        "\n",
        "def _hex_to_bytes(s):\n",
        "    return [_allbytes[s[i:i+2].upper()] for i in range(0, len(s), 2)]\n",
        "\n",
        "\n",
        "def hex_to_bits(s):\n",
        "    return [(b >> i) & 1 for b in _hex_to_bytes(s)\n",
        "            for i in range(8)]\n",
        "\n",
        "def bits_to_hex(b):\n",
        "    return \"\".join([\"%02X\" % sum([b[i + j] << j for j in range(8)])\n",
        "                    for i in range(0, len(b), 8)])\n",
        "\n",
        "\n",
        "if __name__ == \"__main__\":\n",
        "    main()"
      ],
      "execution_count": null,
      "outputs": []
    },
    {
      "metadata": {
        "id": "6c4TemDLvzV5"
      },
      "cell_type": "code",
      "source": [
        "matrix = np.empty((10000,2560))"
      ],
      "execution_count": null,
      "outputs": []
    },
    {
      "metadata": {
        "id": "vxq8XdMzvzbm"
      },
      "cell_type": "code",
      "source": [
        "data1D = []\n",
        "\n",
        "for i in range(0,25696991):\n",
        "    temp_str = \"\"\n",
        "    for k in range(i, i+8):\n",
        "        temp_str += str(bits[k])\n",
        "\n",
        "    decimal = int(temp_str, 2)\n",
        "    data1D.append(decimal)\n",
        "      "
      ],
      "execution_count": null,
      "outputs": []
    },
    {
      "metadata": {
        "id": "oB7FCeNwvzj1",
        "outputId": "5d994ccc-cc0e-4fbf-bd45-aa7ac0bdcc38",
        "colab": {
          "base_uri": "https://localhost:8080/",
          "height": 54
        }
      },
      "cell_type": "code",
      "source": [
        "print(\"length of decimat data 1D - \", len(data1D))\n",
        "print(data1D[0:3])"
      ],
      "execution_count": null,
      "outputs": [
        {
          "output_type": "stream",
          "text": [
            "length of decimat data 1D -  25696991\n",
            "[8, 17, 34]\n"
          ],
          "name": "stdout"
        }
      ]
    },
    {
      "metadata": {
        "id": "65LUcnktvzhP",
        "outputId": "af4648b8-81b8-4579-d7b5-9ecccab2115b",
        "colab": {
          "base_uri": "https://localhost:8080/",
          "height": 34
        }
      },
      "cell_type": "code",
      "source": [
        "# add elements to fratures matrix of 10000*2560\n",
        "\n",
        "k = 0\n",
        "for i in range(0,10000):\n",
        "    for j in range(0,2560):\n",
        "        matrix[i][j] = data1D[k]\n",
        "        k+=1\n",
        "# print(matrix)\n",
        "print(\"shape of output matrix-\",matrix.shape)"
      ],
      "execution_count": null,
      "outputs": [
        {
          "output_type": "stream",
          "text": [
            "shape of output matrix- (10000, 2560)\n"
          ],
          "name": "stdout"
        }
      ]
    },
    {
      "metadata": {
        "id": "ORIWM1rXvzT2",
        "outputId": "53c6c30c-501a-4dfe-caa2-154b7ddfed91",
        "colab": {
          "base_uri": "https://localhost:8080/",
          "height": 35
        }
      },
      "cell_type": "code",
      "source": [
        "# create labels now \n",
        "labels =[]\n",
        "for i in range(2568,25700000,2560):\n",
        "    labels.append(bits[i])\n",
        "print(len(labels ))"
      ],
      "execution_count": null,
      "outputs": [
        {
          "output_type": "stream",
          "text": [
            "10039\n"
          ],
          "name": "stdout"
        }
      ]
    },
    {
      "metadata": {
        "id": "j0D3Pv6qvzMG",
        "outputId": "ef8cb3f5-1073-40d3-e9db-67ab47863ad8",
        "colab": {
          "base_uri": "https://localhost:8080/",
          "height": 35
        }
      },
      "cell_type": "code",
      "source": [
        "labels = labels[0:10000]\n",
        "print(len(labels))\n"
      ],
      "execution_count": null,
      "outputs": [
        {
          "output_type": "stream",
          "text": [
            "10000\n"
          ],
          "name": "stdout"
        }
      ]
    },
    {
      "metadata": {
        "id": "sAY9q-UhxQEL",
        "outputId": "5250750f-7199-47d1-d567-610459b48bdc",
        "colab": {
          "base_uri": "https://localhost:8080/",
          "height": 35
        }
      },
      "cell_type": "code",
      "source": [
        "labels = np.reshape(labels, 10000, 1)\n",
        "print(labels.shape)"
      ],
      "execution_count": null,
      "outputs": [
        {
          "output_type": "stream",
          "text": [
            "(10000,)\n"
          ],
          "name": "stdout"
        }
      ]
    },
    {
      "metadata": {
        "id": "96DatHv6xQJO"
      },
      "cell_type": "code",
      "source": [
        "X = matrix\n",
        "Y = labels\n",
        "\n",
        "from sklearn.model_selection import train_test_split\n",
        "x_train, x_test, y_train, y_test = train_test_split(X, Y, test_size = 0.2)"
      ],
      "execution_count": null,
      "outputs": []
    },
    {
      "metadata": {
        "id": "MiRzIV9sKQVU",
        "outputId": "b922477a-e36c-4c0f-ec2d-90a10f1664e4",
        "colab": {
          "base_uri": "https://localhost:8080/",
          "height": 35
        }
      },
      "cell_type": "code",
      "source": [
        "print(len(x_train))"
      ],
      "execution_count": null,
      "outputs": [
        {
          "output_type": "stream",
          "text": [
            "8000\n"
          ],
          "name": "stdout"
        }
      ]
    },
    {
      "metadata": {
        "id": "oPKA5LNPxQOo"
      },
      "cell_type": "code",
      "source": [
        "# normalize the data \n",
        "# x_train = tf.keras.utils.normalize(x_train, axis = 1)\n",
        "# x_test = tf.keras.utils.normalize(x_test, axis = 1)\n",
        "x_train=x_train/255\n",
        "x_test=x_test/255\n",
        "\n",
        "\n",
        "x_train=x_train.reshape(len(x_train),1,2560)\n",
        "x_test=x_test.reshape(len(x_test),1,2560)\n"
      ],
      "execution_count": null,
      "outputs": []
    },
    {
      "metadata": {
        "id": "FyfxiCXjtEfG",
        "outputId": "c3e2e8ef-9429-49ad-a915-e16206767ccd",
        "colab": {
          "base_uri": "https://localhost:8080/",
          "height": 35
        }
      },
      "cell_type": "code",
      "source": [
        ""
      ],
      "execution_count": null,
      "outputs": [
        {
          "output_type": "stream",
          "text": [
            "[[0.30980392 0.61960784 0.23529412 ... 0.79607843 0.58823529 0.17254902]]\n"
          ],
          "name": "stdout"
        }
      ]
    },
    {
      "metadata": {
        "id": "FESkBTfdxQBf",
        "outputId": "dcfdf89e-a473-4b2d-b7c3-677506723f18",
        "colab": {
          "base_uri": "https://localhost:8080/",
          "height": 35
        }
      },
      "cell_type": "code",
      "source": [
        "import keras \n",
        "from keras.models import Sequential \n",
        "from keras.layers import Dense, Flatten\n",
        "from keras.layers import Embedding\n",
        "from keras.layers import LSTM\n"
      ],
      "execution_count": null,
      "outputs": [
        {
          "output_type": "stream",
          "text": [
            "Using TensorFlow backend.\n"
          ],
          "name": "stderr"
        }
      ]
    },
    {
      "metadata": {
        "id": "hDxlA3IAyabd",
        "outputId": "644d5770-2f99-4bb6-ea5c-086fb04b5d74",
        "colab": {
          "base_uri": "https://localhost:8080/",
          "height": 92
        }
      },
      "cell_type": "code",
      "source": [
        "model = Sequential()\n",
        "\n",
        "model.add(LSTM(100, input_shape = (1,2560),activation='relu')) \n",
        "# model.add(LSTM(200, input_shape = (None,2560),activation='relu')) \n",
        "model.add(Dense(150, activation = 'relu'))\n",
        "# model.add(Flatten())\n",
        "model.add(Dense(output_dim=1, activation='tanh'))\n",
        "print('Model loaded.')\n",
        "model.compile(loss='binary_crossentropy', optimizer=keras.optimizers.Adam(lr=0.0002, beta_1=0.9, beta_2=0.999, epsilon=None, decay=0.0, amsgrad=False), metrics=['accuracy'])\n",
        "# print(model.summary())"
      ],
      "execution_count": null,
      "outputs": [
        {
          "output_type": "stream",
          "text": [
            "Model loaded.\n"
          ],
          "name": "stdout"
        },
        {
          "output_type": "stream",
          "text": [
            "/usr/local/lib/python3.6/dist-packages/ipykernel_launcher.py:7: UserWarning: Update your `Dense` call to the Keras 2 API: `Dense(activation=\"tanh\", units=1)`\n",
            "  import sys\n"
          ],
          "name": "stderr"
        }
      ]
    },
    {
      "metadata": {
        "id": "mninwblXs_up"
      },
      "cell_type": "code",
      "source": [
        "\n",
        "for i in range(0,8000,10):\n",
        "  x_train_instance = x_train[i:i+10]\n",
        "  y_train_instance = y_train[i:i+10]\n",
        "  x_train_instance = x_train_instance.reshape(len(x_train_instance),1,2560)\n",
        "  model.fit(x_train_instance, y_train_instance, epochs = 1)\n"
      ],
      "execution_count": null,
      "outputs": []
    },
    {
      "metadata": {
        "id": "y69MIdLRyaW6",
        "outputId": "6bbe30c7-79f6-44f6-828a-5b136c868ed1",
        "colab": {
          "base_uri": "https://localhost:8080/",
          "height": 35
        }
      },
      "cell_type": "code",
      "source": [
        "x_test = x_test.reshape(len(x_test),1,2560)\n",
        "\n",
        "print(len(x_test))\n"
      ],
      "execution_count": null,
      "outputs": [
        {
          "output_type": "stream",
          "text": [
            "2000\n"
          ],
          "name": "stdout"
        }
      ]
    },
    {
      "metadata": {
        "id": "Jm7gRF9KyaSh",
        "outputId": "a5d1eadb-4375-4f8f-a7b7-603680fe5334",
        "colab": {
          "base_uri": "https://localhost:8080/",
          "height": 54
        }
      },
      "cell_type": "code",
      "source": [
        "y_pred = model.predict(x_test)\n",
        "\n",
        "val_loss , val_acc = model.evaluate(x_test,y_test)\n",
        "\n",
        "print(val_loss, val_acc)"
      ],
      "execution_count": null,
      "outputs": [
        {
          "output_type": "stream",
          "text": [
            "2000/2000 [==============================] - 0s 110us/step\n",
            "0.6944691257476807 0.5165\n"
          ],
          "name": "stdout"
        }
      ]
    },
    {
      "metadata": {
        "id": "gSHxjBCZzDz8",
        "outputId": "a61ee229-cd15-4996-b4cc-9ce5dc862a5f",
        "colab": {
          "base_uri": "https://localhost:8080/",
          "height": 1835
        }
      },
      "cell_type": "code",
      "source": [
        "for i in range(0,100):\n",
        "  print(y_pred[i],\"  \",y_test[i])"
      ],
      "execution_count": null,
      "outputs": [
        {
          "output_type": "stream",
          "text": [
            "[0.48937514]    1\n",
            "[0.48670194]    0\n",
            "[0.46687955]    0\n",
            "[0.5068428]    0\n",
            "[0.47497302]    1\n",
            "[0.46555966]    1\n",
            "[0.46880883]    1\n",
            "[0.4762402]    0\n",
            "[0.45186496]    0\n",
            "[0.5316354]    0\n",
            "[0.47416973]    0\n",
            "[0.4823043]    0\n",
            "[0.5366808]    1\n",
            "[0.4782168]    1\n",
            "[0.49474987]    1\n",
            "[0.46192425]    0\n",
            "[0.5489923]    0\n",
            "[0.4400134]    0\n",
            "[0.46181476]    1\n",
            "[0.46634793]    0\n",
            "[0.49841222]    1\n",
            "[0.47819722]    1\n",
            "[0.470451]    0\n",
            "[0.47630757]    0\n",
            "[0.4644366]    0\n",
            "[0.46948886]    1\n",
            "[0.4823169]    1\n",
            "[0.46863753]    1\n",
            "[0.4890213]    1\n",
            "[0.48537284]    1\n",
            "[0.4430279]    0\n",
            "[0.5017867]    0\n",
            "[0.51045716]    1\n",
            "[0.50509655]    1\n",
            "[0.48969042]    1\n",
            "[0.4898807]    1\n",
            "[0.4914319]    1\n",
            "[0.5197429]    1\n",
            "[0.53205264]    1\n",
            "[0.5013547]    0\n",
            "[0.49345586]    1\n",
            "[0.47034898]    1\n",
            "[0.44467974]    0\n",
            "[0.4654405]    1\n",
            "[0.4626807]    1\n",
            "[0.47112608]    1\n",
            "[0.49208832]    1\n",
            "[0.50456]    0\n",
            "[0.48403162]    1\n",
            "[0.48622268]    0\n",
            "[0.51018834]    0\n",
            "[0.49143013]    1\n",
            "[0.5422392]    0\n",
            "[0.47975144]    1\n",
            "[0.48453262]    1\n",
            "[0.5047948]    0\n",
            "[0.50755537]    1\n",
            "[0.48920146]    1\n",
            "[0.5060793]    0\n",
            "[0.4563606]    0\n",
            "[0.5232823]    0\n",
            "[0.50269634]    1\n",
            "[0.49814764]    1\n",
            "[0.46945795]    1\n",
            "[0.47778332]    0\n",
            "[0.5014005]    0\n",
            "[0.4829274]    0\n",
            "[0.4671]    1\n",
            "[0.47265044]    0\n",
            "[0.49665985]    1\n",
            "[0.5058993]    0\n",
            "[0.4879334]    1\n",
            "[0.5105557]    1\n",
            "[0.5225334]    1\n",
            "[0.49696112]    1\n",
            "[0.4896277]    1\n",
            "[0.48638743]    0\n",
            "[0.45315874]    1\n",
            "[0.52886295]    0\n",
            "[0.49628657]    1\n",
            "[0.5019367]    0\n",
            "[0.5113575]    0\n",
            "[0.45877445]    0\n",
            "[0.444181]    1\n",
            "[0.532225]    1\n",
            "[0.48050112]    0\n",
            "[0.50461006]    0\n",
            "[0.55341595]    0\n",
            "[0.48793826]    1\n",
            "[0.50897634]    0\n",
            "[0.52323335]    1\n",
            "[0.48399535]    1\n",
            "[0.51828444]    0\n",
            "[0.5063894]    1\n",
            "[0.49583426]    0\n",
            "[0.43546638]    0\n",
            "[0.51201904]    0\n",
            "[0.4968885]    0\n",
            "[0.5136864]    1\n",
            "[0.51283276]    1\n"
          ],
          "name": "stdout"
        }
      ]
    },
    {
      "metadata": {
        "id": "EOBRFUvOzDwt",
        "outputId": "4555a548-d1fc-4ffd-e2ba-b28d3e45d20b",
        "colab": {
          "base_uri": "https://localhost:8080/",
          "height": 54
        }
      },
      "cell_type": "code",
      "source": [
        "y_pred = (y_pred > 0.5)\n",
        "from sklearn.metrics import confusion_matrix\n",
        "\n",
        "cm = confusion_matrix(y_test, y_pred)\n",
        "\n",
        "print(cm)"
      ],
      "execution_count": null,
      "outputs": [
        {
          "output_type": "stream",
          "text": [
            "[[647 334]\n",
            " [633 386]]\n"
          ],
          "name": "stdout"
        }
      ]
    },
    {
      "metadata": {
        "id": "jChlfr_gzDtF"
      },
      "cell_type": "code",
      "source": [
        ""
      ],
      "execution_count": null,
      "outputs": []
    }
  ]
}